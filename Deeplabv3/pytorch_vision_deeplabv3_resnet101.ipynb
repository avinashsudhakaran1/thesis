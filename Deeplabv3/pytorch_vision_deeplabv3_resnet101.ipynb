{
  "cells": [
    {
      "cell_type": "code",
      "execution_count": 1,
      "id": "after-greenhouse",
      "metadata": {
        "colab": {
          "base_uri": "https://localhost:8080/",
          "height": 1000,
          "referenced_widgets": [
            "f0e0fa8371734a1c97428e23ae614436",
            "ea9bbbe56c5f47c8a71bdfd5cfb6d957",
            "a904fac0899841219799d50b849a8e69",
            "b13d700e181f420eb1eaa1a666c009cd",
            "eb159a5bffb94241b1e46198cb386a60",
            "7eb28c10de8f420084edf37809e5ef15",
            "8224553b67a14acca31a7df0423eac29",
            "7b4f6633c2e14c2288e4a72e93b9a5f7",
            "c3a69227cadf4831b9b83a7af80e0f8a",
            "4562b6864cfd4f43bcb4b574a065ba70",
            "efde46c21d6e4047bb17a4535305e824"
          ]
        },
        "id": "after-greenhouse",
        "outputId": "904e0d57-8bab-429d-bcb8-10cffc4c314c"
      },
      "outputs": [
        {
          "name": "stderr",
          "output_type": "stream",
          "text": [
            "c:\\Users\\Fred\\AppData\\Local\\Programs\\Python\\Python39\\lib\\site-packages\\tqdm\\auto.py:22: TqdmWarning: IProgress not found. Please update jupyter and ipywidgets. See https://ipywidgets.readthedocs.io/en/stable/user_install.html\n",
            "  from .autonotebook import tqdm as notebook_tqdm\n",
            "Using cache found in C:\\Users\\Fred/.cache\\torch\\hub\\pytorch_vision_v0.10.0\n"
          ]
        }
      ],
      "source": [
        "import torch\n",
        "import torchvision\n",
        "# model = torch.hub.load('pytorch/vision:v0.10.0', 'deeplabv3_resnet50', pretrained=True)\n",
        "device = torch.device(\"cuda:0\" if torch.cuda.is_available() else \"cpu\")\n",
        "# or any of these variants\n",
        "# model = torch.hub.load('pytorch/vision:v0.10.0', 'deeplabv3_resnet101', pretrained=True) \n",
        "#https://pytorch.org/vision/stable/generated/torchvision.models.segmentation.deeplabv3_resnet101.html \n",
        "model = torch.hub.load('pytorch/vision:v0.10.0', 'deeplabv3_mobilenet_v3_large', pretrained=True)\n",
        "# model.eval()\n",
        "\n",
        "# download or load the model from disk\n",
        "# model = torchvision.models.segmentation.deeplabv3_resnet50(pretrained=True)\n",
        "# load the model onto the computation device\n",
        "model = model.eval().to(device)"
      ]
    },
    {
      "cell_type": "markdown",
      "id": "driven-smoke",
      "metadata": {
        "id": "driven-smoke"
      },
      "source": [
        "All pre-trained models expect input images normalized in the same way,\n",
        "i.e. mini-batches of 3-channel RGB images of shape `(N, 3, H, W)`, where `N` is the number of images, `H` and `W` are expected to be at least `224` pixels.\n",
        "The images have to be loaded in to a range of `[0, 1]` and then normalized using `mean = [0.485, 0.456, 0.406]`\n",
        "and `std = [0.229, 0.224, 0.225]`.\n",
        "\n",
        "The model returns an `OrderedDict` with two Tensors that are of the same height and width as the input Tensor, but with 21 classes.\n",
        "`output['out']` contains the semantic masks, and `output['aux']` contains the auxiliary loss values per-pixel. In inference mode, `output['aux']` is not useful.\n",
        "So, `output['out']` is of shape `(N, 21, H, W)`. More documentation can be found [here](https://pytorch.org/vision/stable/models.html#semantic-segmentation)."
      ]
    },
    {
      "cell_type": "code",
      "execution_count": 2,
      "id": "collectible-briefs",
      "metadata": {
        "id": "collectible-briefs"
      },
      "outputs": [],
      "source": [
        "# # Download an example image from the pytorch website\n",
        "# import urllib\n",
        "# url, filename = (\"https://github.com/pytorch/hub/raw/master/images/deeplab1.png\", \"deeplab1.png\")\n",
        "# try: urllib.URLopener().retrieve(url, filename)\n",
        "# except: urllib.request.urlretrieve(url, filename)\n",
        "vid = \"./goprotest3.mp4\""
      ]
    },
    {
      "cell_type": "code",
      "execution_count": 3,
      "id": "immediate-shakespeare",
      "metadata": {
        "id": "immediate-shakespeare"
      },
      "outputs": [
        {
          "ename": "KeyboardInterrupt",
          "evalue": "",
          "output_type": "error",
          "traceback": [
            "\u001b[1;31m---------------------------------------------------------------------------\u001b[0m",
            "\u001b[1;31mKeyboardInterrupt\u001b[0m                         Traceback (most recent call last)",
            "\u001b[1;32mc:\\Users\\Fred\\Desktop\\Thesis\\Deeplabv3\\pytorch_vision_deeplabv3_resnet101.ipynb Cell 4\u001b[0m in \u001b[0;36m<cell line: 25>\u001b[1;34m()\u001b[0m\n\u001b[0;32m     <a href='vscode-notebook-cell:/c%3A/Users/Fred/Desktop/Thesis/Deeplabv3/pytorch_vision_deeplabv3_resnet101.ipynb#ch0000003?line=33'>34</a>\u001b[0m     outputs \u001b[39m=\u001b[39m segmentation_utils\u001b[39m.\u001b[39mget_segment_labels(rgb_frame, model, device)\n\u001b[0;32m     <a href='vscode-notebook-cell:/c%3A/Users/Fred/Desktop/Thesis/Deeplabv3/pytorch_vision_deeplabv3_resnet101.ipynb#ch0000003?line=35'>36</a>\u001b[0m \u001b[39m# obtain the segmentation map\u001b[39;00m\n\u001b[1;32m---> <a href='vscode-notebook-cell:/c%3A/Users/Fred/Desktop/Thesis/Deeplabv3/pytorch_vision_deeplabv3_resnet101.ipynb#ch0000003?line=36'>37</a>\u001b[0m segmented_image \u001b[39m=\u001b[39m segmentation_utils\u001b[39m.\u001b[39;49mdraw_segmentation_map(outputs[\u001b[39m'\u001b[39;49m\u001b[39mout\u001b[39;49m\u001b[39m'\u001b[39;49m])\n\u001b[0;32m     <a href='vscode-notebook-cell:/c%3A/Users/Fred/Desktop/Thesis/Deeplabv3/pytorch_vision_deeplabv3_resnet101.ipynb#ch0000003?line=37'>38</a>\u001b[0m \u001b[39m# get the final image with segmentation map overlayed on original iimage\u001b[39;00m\n\u001b[0;32m     <a href='vscode-notebook-cell:/c%3A/Users/Fred/Desktop/Thesis/Deeplabv3/pytorch_vision_deeplabv3_resnet101.ipynb#ch0000003?line=38'>39</a>\u001b[0m final_image \u001b[39m=\u001b[39m segmentation_utils\u001b[39m.\u001b[39mimage_overlay(rgb_frame, segmented_image)\n",
            "File \u001b[1;32mc:\\Users\\Fred\\Desktop\\Thesis\\Deeplabv3\\segmentation_utils.py:47\u001b[0m, in \u001b[0;36mdraw_segmentation_map\u001b[1;34m(outputs)\u001b[0m\n\u001b[0;32m     46\u001b[0m \u001b[39mdef\u001b[39;00m \u001b[39mdraw_segmentation_map\u001b[39m(outputs):\n\u001b[1;32m---> 47\u001b[0m     labels \u001b[39m=\u001b[39m torch\u001b[39m.\u001b[39;49margmax(outputs\u001b[39m.\u001b[39;49msqueeze(), dim\u001b[39m=\u001b[39;49m\u001b[39m0\u001b[39;49m)\u001b[39m.\u001b[39;49mdetach()\u001b[39m.\u001b[39;49mcpu()\u001b[39m.\u001b[39mnumpy()\n\u001b[0;32m     48\u001b[0m     \u001b[39m# create Numpy arrays containing zeros\u001b[39;00m\n\u001b[0;32m     49\u001b[0m     \u001b[39m# later to be used to fill them with respective red, green, and blue pixels\u001b[39;00m\n\u001b[0;32m     50\u001b[0m     red_map \u001b[39m=\u001b[39m np\u001b[39m.\u001b[39mzeros_like(labels)\u001b[39m.\u001b[39mastype(np\u001b[39m.\u001b[39muint8)\n",
            "\u001b[1;31mKeyboardInterrupt\u001b[0m: "
          ]
        },
        {
          "ename": "",
          "evalue": "",
          "output_type": "error",
          "traceback": [
            "\u001b[1;31mThe Kernel crashed while executing code in the the current cell or a previous cell. Please review the code in the cell(s) to identify a possible cause of the failure. Click <a href='https://aka.ms/vscodeJupyterKernelCrash'>here</a> for more info. View Jupyter <a href='command:jupyter.viewOutput'>log</a> for further details."
          ]
        }
      ],
      "source": [
        "# sample execution (requires torchvision)\n",
        "# https://debuggercafe.com/semantic-segmentation-using-pytorch-deeplabv3-resnet50/ \n",
        "\n",
        "from PIL import Image\n",
        "from torchvision import transforms\n",
        "import cv2\n",
        "import time\n",
        "import segmentation_utils\n",
        "\n",
        "cap = cv2.VideoCapture(vid)\n",
        "if (cap.isOpened() == False):\n",
        "    print('Error while trying to read video. Please check path again')\n",
        "# get the frame width and height\n",
        "frame_width = int(cap.get(3))\n",
        "frame_height = int(cap.get(4))\n",
        "save_name = \"newplease\"\n",
        "# define codec and create VideoWriter object \n",
        "out = cv2.VideoWriter(f\"outputs/{save_name}.mp4\", \n",
        "                      cv2.VideoWriter_fourcc(*'mp4v'), 30, \n",
        "                      (frame_width, frame_height))\n",
        "frame_count = 0 # to count total frames\n",
        "total_fps = 0 # to get the final frames per second\n",
        "\n",
        "\n",
        "while(cap.isOpened()):\n",
        "    # capture each frame of the video\n",
        "    ret, frame = cap.read()\n",
        "    if ret:\n",
        "        rgb_frame = cv2.cvtColor(frame, cv2.COLOR_BGR2RGB)\n",
        "        # get the start time\n",
        "        start_time = time.time()\n",
        "        with torch.no_grad():\n",
        "            # get predictions for the current frame\n",
        "            outputs = segmentation_utils.get_segment_labels(rgb_frame, model, device)\n",
        "        \n",
        "        # obtain the segmentation map\n",
        "        segmented_image = segmentation_utils.draw_segmentation_map(outputs['out'])\n",
        "        # get the final image with segmentation map overlayed on original iimage\n",
        "        final_image = segmentation_utils.image_overlay(rgb_frame, segmented_image)\n",
        "        # get the end time\n",
        "        end_time = time.time()\n",
        "        # get the current fps\n",
        "        fps = 1 / (end_time - start_time)\n",
        "        # add current fps to total fps\n",
        "        total_fps += fps\n",
        "        # increment frame count\n",
        "        frame_count += 1\n",
        "        # put the FPS text on the current frame\n",
        "        cv2.putText(final_image, f\"{fps:.3f} FPS\", (20, 35), \n",
        "                    cv2.FONT_HERSHEY_SIMPLEX, 1, (0, 255, 0), 2)\n",
        "        # press `q` to exit\n",
        "        cv2.imshow('image', final_image)\n",
        "        out.write(final_image)\n",
        "        if cv2.waitKey(1) & 0xFF == ord('q'):\n",
        "            break\n",
        "    else:\n",
        "        break\n",
        "\n",
        "# release VideoCapture()\n",
        "cap.release()\n",
        "# close all frames and video windows\n",
        "cv2.destroyAllWindows()\n",
        "# calculate and print the average FPS\n",
        "avg_fps = total_fps / frame_count\n",
        "print(f\"Average FPS: {avg_fps:.3f}\")    \n",
        "\n",
        "# input_image = Image.open(filename)\n",
        "# input_image = input_image.convert(\"RGB\")\n",
        "# preprocess = transforms.Compose([\n",
        "#     transforms.ToTensor(),\n",
        "#     transforms.Normalize(mean=[0.485, 0.456, 0.406], std=[0.229, 0.224, 0.225]),\n",
        "# ])\n",
        "\n",
        "# input_tensor = preprocess(input_image)\n",
        "# input_batch = input_tensor.unsqueeze(0) # create a mini-batch as expected by the model\n",
        "\n",
        "# # move the input and model to GPU for speed if available\n",
        "# if torch.cuda.is_available():\n",
        "#     input_batch = input_batch.to('cuda')\n",
        "#     model.to('cuda')\n",
        "\n",
        "# with torch.no_grad():\n",
        "#     output = model(input_batch)['out'][0]\n",
        "# output_predictions = output.argmax(0)"
      ]
    },
    {
      "cell_type": "markdown",
      "id": "appreciated-cookbook",
      "metadata": {
        "id": "appreciated-cookbook"
      },
      "source": [
        "The output here is of shape `(21, H, W)`, and at each location, there are unnormalized probabilities corresponding to the prediction of each class.\n",
        "To get the maximum prediction of each class, and then use it for a downstream task, you can do `output_predictions = output.argmax(0)`.\n",
        "\n",
        "Here's a small snippet that plots the predictions, with each color being assigned to each class (see the visualized image on the left)."
      ]
    },
    {
      "cell_type": "code",
      "execution_count": 4,
      "id": "faced-attraction",
      "metadata": {
        "colab": {
          "base_uri": "https://localhost:8080/",
          "height": 286
        },
        "id": "faced-attraction",
        "outputId": "30ec1b51-efe1-4a31-8c4e-0349d0564e15"
      },
      "outputs": [],
      "source": [
        "# # create a color pallette, selecting a color for each class\n",
        "# palette = torch.tensor([2 ** 25 - 1, 2 ** 15 - 1, 2 ** 21 - 1])\n",
        "# colors = torch.as_tensor([i for i in range(21)])[:, None] * palette\n",
        "# colors = (colors % 255).numpy().astype(\"uint8\")\n",
        "\n",
        "# # plot the semantic segmentation predictions of 21 classes in each color\n",
        "# r = Image.fromarray(output_predictions.byte().cpu().numpy()).resize(input_image.size)\n",
        "# r.putpalette(colors)\n",
        "\n",
        "# import matplotlib.pyplot as plt\n",
        "# plt.imshow(r)\n",
        "# # plt.show()"
      ]
    },
    {
      "cell_type": "markdown",
      "id": "governmental-peoples",
      "metadata": {
        "id": "governmental-peoples"
      },
      "source": [
        "### Model Description\n",
        "\n",
        "Deeplabv3-ResNet is constructed by a Deeplabv3 model using a ResNet-50 or ResNet-101 backbone.\n",
        "Deeplabv3-MobileNetV3-Large is constructed by a Deeplabv3 model using the MobileNetV3 large backbone.\n",
        "The pre-trained model has been trained on a subset of COCO train2017, on the 20 categories that are present in the Pascal VOC dataset.\n",
        "\n",
        "Their accuracies of the pre-trained models evaluated on COCO val2017 dataset are listed below.\n",
        "\n",
        "|    Model structure           |   Mean IOU  | Global Pixelwise Accuracy |\n",
        "| ---------------------------- | ----------- | --------------------------|\n",
        "| deeplabv3_resnet50           |   66.4      |   92.4                    |\n",
        "| deeplabv3_resnet101          |   67.4      |   92.4                    |\n",
        "| deeplabv3_mobilenet_v3_large |   60.3      |   91.2                    |\n",
        "\n",
        "### Resources\n",
        "\n",
        " - [Rethinking Atrous Convolution for Semantic Image Segmentation](https://arxiv.org/abs/1706.05587)"
      ]
    }
  ],
  "metadata": {
    "colab": {
      "name": "pytorch_vision_deeplabv3_resnet101.ipynb",
      "provenance": []
    },
    "interpreter": {
      "hash": "a65e0eafc22f30aa882fc57de03ab4993c4f7957369d2157f87e2ebd22fd3153"
    },
    "kernelspec": {
      "display_name": "Python 3.9.12 64-bit",
      "language": "python",
      "name": "python3"
    },
    "language_info": {
      "codemirror_mode": {
        "name": "ipython",
        "version": 3
      },
      "file_extension": ".py",
      "mimetype": "text/x-python",
      "name": "python",
      "nbconvert_exporter": "python",
      "pygments_lexer": "ipython3",
      "version": "3.9.12"
    },
    "widgets": {
      "application/vnd.jupyter.widget-state+json": {
        "4562b6864cfd4f43bcb4b574a065ba70": {
          "model_module": "@jupyter-widgets/base",
          "model_module_version": "1.2.0",
          "model_name": "LayoutModel",
          "state": {
            "_model_module": "@jupyter-widgets/base",
            "_model_module_version": "1.2.0",
            "_model_name": "LayoutModel",
            "_view_count": null,
            "_view_module": "@jupyter-widgets/base",
            "_view_module_version": "1.2.0",
            "_view_name": "LayoutView",
            "align_content": null,
            "align_items": null,
            "align_self": null,
            "border": null,
            "bottom": null,
            "display": null,
            "flex": null,
            "flex_flow": null,
            "grid_area": null,
            "grid_auto_columns": null,
            "grid_auto_flow": null,
            "grid_auto_rows": null,
            "grid_column": null,
            "grid_gap": null,
            "grid_row": null,
            "grid_template_areas": null,
            "grid_template_columns": null,
            "grid_template_rows": null,
            "height": null,
            "justify_content": null,
            "justify_items": null,
            "left": null,
            "margin": null,
            "max_height": null,
            "max_width": null,
            "min_height": null,
            "min_width": null,
            "object_fit": null,
            "object_position": null,
            "order": null,
            "overflow": null,
            "overflow_x": null,
            "overflow_y": null,
            "padding": null,
            "right": null,
            "top": null,
            "visibility": null,
            "width": null
          }
        },
        "7b4f6633c2e14c2288e4a72e93b9a5f7": {
          "model_module": "@jupyter-widgets/base",
          "model_module_version": "1.2.0",
          "model_name": "LayoutModel",
          "state": {
            "_model_module": "@jupyter-widgets/base",
            "_model_module_version": "1.2.0",
            "_model_name": "LayoutModel",
            "_view_count": null,
            "_view_module": "@jupyter-widgets/base",
            "_view_module_version": "1.2.0",
            "_view_name": "LayoutView",
            "align_content": null,
            "align_items": null,
            "align_self": null,
            "border": null,
            "bottom": null,
            "display": null,
            "flex": null,
            "flex_flow": null,
            "grid_area": null,
            "grid_auto_columns": null,
            "grid_auto_flow": null,
            "grid_auto_rows": null,
            "grid_column": null,
            "grid_gap": null,
            "grid_row": null,
            "grid_template_areas": null,
            "grid_template_columns": null,
            "grid_template_rows": null,
            "height": null,
            "justify_content": null,
            "justify_items": null,
            "left": null,
            "margin": null,
            "max_height": null,
            "max_width": null,
            "min_height": null,
            "min_width": null,
            "object_fit": null,
            "object_position": null,
            "order": null,
            "overflow": null,
            "overflow_x": null,
            "overflow_y": null,
            "padding": null,
            "right": null,
            "top": null,
            "visibility": null,
            "width": null
          }
        },
        "7eb28c10de8f420084edf37809e5ef15": {
          "model_module": "@jupyter-widgets/base",
          "model_module_version": "1.2.0",
          "model_name": "LayoutModel",
          "state": {
            "_model_module": "@jupyter-widgets/base",
            "_model_module_version": "1.2.0",
            "_model_name": "LayoutModel",
            "_view_count": null,
            "_view_module": "@jupyter-widgets/base",
            "_view_module_version": "1.2.0",
            "_view_name": "LayoutView",
            "align_content": null,
            "align_items": null,
            "align_self": null,
            "border": null,
            "bottom": null,
            "display": null,
            "flex": null,
            "flex_flow": null,
            "grid_area": null,
            "grid_auto_columns": null,
            "grid_auto_flow": null,
            "grid_auto_rows": null,
            "grid_column": null,
            "grid_gap": null,
            "grid_row": null,
            "grid_template_areas": null,
            "grid_template_columns": null,
            "grid_template_rows": null,
            "height": null,
            "justify_content": null,
            "justify_items": null,
            "left": null,
            "margin": null,
            "max_height": null,
            "max_width": null,
            "min_height": null,
            "min_width": null,
            "object_fit": null,
            "object_position": null,
            "order": null,
            "overflow": null,
            "overflow_x": null,
            "overflow_y": null,
            "padding": null,
            "right": null,
            "top": null,
            "visibility": null,
            "width": null
          }
        },
        "8224553b67a14acca31a7df0423eac29": {
          "model_module": "@jupyter-widgets/controls",
          "model_module_version": "1.5.0",
          "model_name": "DescriptionStyleModel",
          "state": {
            "_model_module": "@jupyter-widgets/controls",
            "_model_module_version": "1.5.0",
            "_model_name": "DescriptionStyleModel",
            "_view_count": null,
            "_view_module": "@jupyter-widgets/base",
            "_view_module_version": "1.2.0",
            "_view_name": "StyleView",
            "description_width": ""
          }
        },
        "a904fac0899841219799d50b849a8e69": {
          "model_module": "@jupyter-widgets/controls",
          "model_module_version": "1.5.0",
          "model_name": "FloatProgressModel",
          "state": {
            "_dom_classes": [],
            "_model_module": "@jupyter-widgets/controls",
            "_model_module_version": "1.5.0",
            "_model_name": "FloatProgressModel",
            "_view_count": null,
            "_view_module": "@jupyter-widgets/controls",
            "_view_module_version": "1.5.0",
            "_view_name": "ProgressView",
            "bar_style": "success",
            "description": "",
            "description_tooltip": null,
            "layout": "IPY_MODEL_7b4f6633c2e14c2288e4a72e93b9a5f7",
            "max": 168312152,
            "min": 0,
            "orientation": "horizontal",
            "style": "IPY_MODEL_c3a69227cadf4831b9b83a7af80e0f8a",
            "value": 168312152
          }
        },
        "b13d700e181f420eb1eaa1a666c009cd": {
          "model_module": "@jupyter-widgets/controls",
          "model_module_version": "1.5.0",
          "model_name": "HTMLModel",
          "state": {
            "_dom_classes": [],
            "_model_module": "@jupyter-widgets/controls",
            "_model_module_version": "1.5.0",
            "_model_name": "HTMLModel",
            "_view_count": null,
            "_view_module": "@jupyter-widgets/controls",
            "_view_module_version": "1.5.0",
            "_view_name": "HTMLView",
            "description": "",
            "description_tooltip": null,
            "layout": "IPY_MODEL_4562b6864cfd4f43bcb4b574a065ba70",
            "placeholder": "​",
            "style": "IPY_MODEL_efde46c21d6e4047bb17a4535305e824",
            "value": " 161M/161M [00:04&lt;00:00, 40.4MB/s]"
          }
        },
        "c3a69227cadf4831b9b83a7af80e0f8a": {
          "model_module": "@jupyter-widgets/controls",
          "model_module_version": "1.5.0",
          "model_name": "ProgressStyleModel",
          "state": {
            "_model_module": "@jupyter-widgets/controls",
            "_model_module_version": "1.5.0",
            "_model_name": "ProgressStyleModel",
            "_view_count": null,
            "_view_module": "@jupyter-widgets/base",
            "_view_module_version": "1.2.0",
            "_view_name": "StyleView",
            "bar_color": null,
            "description_width": ""
          }
        },
        "ea9bbbe56c5f47c8a71bdfd5cfb6d957": {
          "model_module": "@jupyter-widgets/controls",
          "model_module_version": "1.5.0",
          "model_name": "HTMLModel",
          "state": {
            "_dom_classes": [],
            "_model_module": "@jupyter-widgets/controls",
            "_model_module_version": "1.5.0",
            "_model_name": "HTMLModel",
            "_view_count": null,
            "_view_module": "@jupyter-widgets/controls",
            "_view_module_version": "1.5.0",
            "_view_name": "HTMLView",
            "description": "",
            "description_tooltip": null,
            "layout": "IPY_MODEL_7eb28c10de8f420084edf37809e5ef15",
            "placeholder": "​",
            "style": "IPY_MODEL_8224553b67a14acca31a7df0423eac29",
            "value": "100%"
          }
        },
        "eb159a5bffb94241b1e46198cb386a60": {
          "model_module": "@jupyter-widgets/base",
          "model_module_version": "1.2.0",
          "model_name": "LayoutModel",
          "state": {
            "_model_module": "@jupyter-widgets/base",
            "_model_module_version": "1.2.0",
            "_model_name": "LayoutModel",
            "_view_count": null,
            "_view_module": "@jupyter-widgets/base",
            "_view_module_version": "1.2.0",
            "_view_name": "LayoutView",
            "align_content": null,
            "align_items": null,
            "align_self": null,
            "border": null,
            "bottom": null,
            "display": null,
            "flex": null,
            "flex_flow": null,
            "grid_area": null,
            "grid_auto_columns": null,
            "grid_auto_flow": null,
            "grid_auto_rows": null,
            "grid_column": null,
            "grid_gap": null,
            "grid_row": null,
            "grid_template_areas": null,
            "grid_template_columns": null,
            "grid_template_rows": null,
            "height": null,
            "justify_content": null,
            "justify_items": null,
            "left": null,
            "margin": null,
            "max_height": null,
            "max_width": null,
            "min_height": null,
            "min_width": null,
            "object_fit": null,
            "object_position": null,
            "order": null,
            "overflow": null,
            "overflow_x": null,
            "overflow_y": null,
            "padding": null,
            "right": null,
            "top": null,
            "visibility": null,
            "width": null
          }
        },
        "efde46c21d6e4047bb17a4535305e824": {
          "model_module": "@jupyter-widgets/controls",
          "model_module_version": "1.5.0",
          "model_name": "DescriptionStyleModel",
          "state": {
            "_model_module": "@jupyter-widgets/controls",
            "_model_module_version": "1.5.0",
            "_model_name": "DescriptionStyleModel",
            "_view_count": null,
            "_view_module": "@jupyter-widgets/base",
            "_view_module_version": "1.2.0",
            "_view_name": "StyleView",
            "description_width": ""
          }
        },
        "f0e0fa8371734a1c97428e23ae614436": {
          "model_module": "@jupyter-widgets/controls",
          "model_module_version": "1.5.0",
          "model_name": "HBoxModel",
          "state": {
            "_dom_classes": [],
            "_model_module": "@jupyter-widgets/controls",
            "_model_module_version": "1.5.0",
            "_model_name": "HBoxModel",
            "_view_count": null,
            "_view_module": "@jupyter-widgets/controls",
            "_view_module_version": "1.5.0",
            "_view_name": "HBoxView",
            "box_style": "",
            "children": [
              "IPY_MODEL_ea9bbbe56c5f47c8a71bdfd5cfb6d957",
              "IPY_MODEL_a904fac0899841219799d50b849a8e69",
              "IPY_MODEL_b13d700e181f420eb1eaa1a666c009cd"
            ],
            "layout": "IPY_MODEL_eb159a5bffb94241b1e46198cb386a60"
          }
        }
      }
    }
  },
  "nbformat": 4,
  "nbformat_minor": 5
}
